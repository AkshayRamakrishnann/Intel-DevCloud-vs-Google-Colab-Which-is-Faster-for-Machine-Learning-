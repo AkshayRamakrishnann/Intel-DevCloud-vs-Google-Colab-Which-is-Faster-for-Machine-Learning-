{
 "cells": [
  {
   "cell_type": "code",
   "execution_count": 2,
   "id": "f9bf8f9e-4ffa-4743-9136-62b41cfb7088",
   "metadata": {},
   "outputs": [
    {
     "name": "stdout",
     "output_type": "stream",
     "text": [
      "Defaulting to user installation because normal site-packages is not writeable\n",
      "Requirement already satisfied: opendatasets in ./.local/lib/python3.9/site-packages (0.1.22)\n",
      "Requirement already satisfied: click in ./.local/lib/python3.9/site-packages (from opendatasets) (8.1.3)\n",
      "Requirement already satisfied: tqdm in /glob/development-tools/versions/oneapi/2022.3.1/oneapi/intelpython/python3.9/lib/python3.9/site-packages (from opendatasets) (4.62.2)\n",
      "Requirement already satisfied: kaggle in ./.local/lib/python3.9/site-packages (from opendatasets) (1.5.13)\n",
      "Requirement already satisfied: requests in /glob/development-tools/versions/oneapi/2022.3.1/oneapi/intelpython/python3.9/lib/python3.9/site-packages (from kaggle->opendatasets) (2.25.1)\n",
      "Requirement already satisfied: urllib3 in /glob/development-tools/versions/oneapi/2022.3.1/oneapi/intelpython/python3.9/lib/python3.9/site-packages (from kaggle->opendatasets) (1.26.11)\n",
      "Requirement already satisfied: six>=1.10 in /glob/development-tools/versions/oneapi/2022.3.1/oneapi/intelpython/python3.9/lib/python3.9/site-packages (from kaggle->opendatasets) (1.16.0)\n",
      "Requirement already satisfied: certifi in /glob/development-tools/versions/oneapi/2022.3.1/oneapi/intelpython/python3.9/lib/python3.9/site-packages (from kaggle->opendatasets) (2022.6.15)\n",
      "Requirement already satisfied: python-slugify in ./.local/lib/python3.9/site-packages (from kaggle->opendatasets) (8.0.1)\n",
      "Requirement already satisfied: python-dateutil in /glob/development-tools/versions/oneapi/2022.3.1/oneapi/intelpython/python3.9/lib/python3.9/site-packages (from kaggle->opendatasets) (2.8.2)\n",
      "Requirement already satisfied: text-unidecode>=1.3 in ./.local/lib/python3.9/site-packages (from python-slugify->kaggle->opendatasets) (1.3)\n",
      "Requirement already satisfied: chardet<5,>=3.0.2 in /glob/development-tools/versions/oneapi/2022.3.1/oneapi/intelpython/python3.9/lib/python3.9/site-packages (from requests->kaggle->opendatasets) (4.0.0)\n",
      "Requirement already satisfied: idna<3,>=2.5 in /glob/development-tools/versions/oneapi/2022.3.1/oneapi/intelpython/python3.9/lib/python3.9/site-packages (from requests->kaggle->opendatasets) (2.10)\n",
      "Note: you may need to restart the kernel to use updated packages.\n",
      "Defaulting to user installation because normal site-packages is not writeable\n",
      "Requirement already satisfied: pandas in /glob/development-tools/versions/oneapi/2022.3.1/oneapi/intelpython/python3.9/lib/python3.9/site-packages (1.3.5)\n",
      "Requirement already satisfied: python-dateutil>=2.7.3 in /glob/development-tools/versions/oneapi/2022.3.1/oneapi/intelpython/python3.9/lib/python3.9/site-packages (from pandas) (2.8.2)\n",
      "Requirement already satisfied: pytz>=2017.3 in /glob/development-tools/versions/oneapi/2022.3.1/oneapi/intelpython/python3.9/lib/python3.9/site-packages (from pandas) (2022.1)\n",
      "Requirement already satisfied: numpy>=1.17.3 in /glob/development-tools/versions/oneapi/2022.3.1/oneapi/intelpython/python3.9/lib/python3.9/site-packages (from pandas) (1.21.4)\n",
      "Requirement already satisfied: six>=1.5 in /glob/development-tools/versions/oneapi/2022.3.1/oneapi/intelpython/python3.9/lib/python3.9/site-packages (from python-dateutil>=2.7.3->pandas) (1.16.0)\n",
      "Note: you may need to restart the kernel to use updated packages.\n"
     ]
    }
   ],
   "source": [
    "%pip install opendatasets\n",
    "%pip install pandas"
   ]
  },
  {
   "cell_type": "code",
   "execution_count": 3,
   "id": "13df5920-d532-49ee-ba5e-1565fe4ae818",
   "metadata": {},
   "outputs": [
    {
     "name": "stdout",
     "output_type": "stream",
     "text": [
      "Please provide your Kaggle credentials to download this dataset. Learn more: http://bit.ly/kaggle-creds\n",
      "Your Kaggle username:"
     ]
    },
    {
     "name": "stdin",
     "output_type": "stream",
     "text": [
      "  akshayramakrishnan28\n"
     ]
    },
    {
     "name": "stdout",
     "output_type": "stream",
     "text": [
      "Your Kaggle Key:"
     ]
    },
    {
     "name": "stdin",
     "output_type": "stream",
     "text": [
      "  ································\n"
     ]
    },
    {
     "name": "stdout",
     "output_type": "stream",
     "text": [
      "Downloading chest-xray-pneumonia.zip to ./chest-xray-pneumonia\n"
     ]
    },
    {
     "name": "stderr",
     "output_type": "stream",
     "text": [
      "100%|██████████| 2.29G/2.29G [10:03<00:00, 4.08MB/s]"
     ]
    },
    {
     "name": "stdout",
     "output_type": "stream",
     "text": [
      "\n"
     ]
    },
    {
     "name": "stderr",
     "output_type": "stream",
     "text": [
      "\n"
     ]
    }
   ],
   "source": [
    "import opendatasets as od\n",
    "import pandas\n",
    "od.download(\n",
    "\t\"https://www.kaggle.com/paultimothymooney/chest-xray-pneumonia\")"
   ]
  },
  {
   "cell_type": "code",
   "execution_count": 4,
   "id": "07dff5af-4802-4ce9-93d3-c82ae2486bbb",
   "metadata": {},
   "outputs": [
    {
     "name": "stderr",
     "output_type": "stream",
     "text": [
      "2023-04-28 05:49:29.938411: I tensorflow/core/platform/cpu_feature_guard.cc:193] This TensorFlow binary is optimized with oneAPI Deep Neural Network Library (oneDNN) to use the following CPU instructions in performance-critical operations:  AVX2 AVX512F FMA\n",
      "To enable them in other operations, rebuild TensorFlow with the appropriate compiler flags.\n"
     ]
    }
   ],
   "source": [
    "import tensorflow as tf"
   ]
  },
  {
   "cell_type": "code",
   "execution_count": 5,
   "id": "793c9cb1-0763-4369-98a6-aee53cbbcc0d",
   "metadata": {},
   "outputs": [],
   "source": [
    "import numpy as np\n",
    "import cv2\n",
    "import os"
   ]
  },
  {
   "cell_type": "code",
   "execution_count": 8,
   "id": "7b0a1f1d-44e8-417c-acbf-c96d4c4a8113",
   "metadata": {},
   "outputs": [],
   "source": [
    "# Load the dataset\n",
    "data_dir = 'chest-xray-pneumonia/chest_xray/chest_xray'\n",
    "train_dir = os.path.join(data_dir, 'train')\n",
    "test_dir = os.path.join(data_dir, 'test')\n",
    "val_dir = os.path.join(data_dir, 'val')\n",
    "\n"
   ]
  },
  {
   "cell_type": "code",
   "execution_count": 9,
   "id": "26681417-17f5-4e02-8451-c105c776d6f0",
   "metadata": {},
   "outputs": [
    {
     "name": "stdout",
     "output_type": "stream",
     "text": [
      "Found 5216 images belonging to 2 classes.\n",
      "Found 624 images belonging to 2 classes.\n",
      "Found 16 images belonging to 2 classes.\n"
     ]
    }
   ],
   "source": [
    "train_data = tf.keras.preprocessing.image.ImageDataGenerator(rescale=1./255).flow_from_directory(\n",
    "    train_dir,\n",
    "    target_size=(224, 224),\n",
    "    batch_size=32,\n",
    "    class_mode='binary')\n",
    "\n",
    "test_data = tf.keras.preprocessing.image.ImageDataGenerator(rescale=1./255).flow_from_directory(\n",
    "    test_dir,\n",
    "    target_size=(224, 224),\n",
    "    batch_size=32,\n",
    "    class_mode='binary')\n",
    "\n",
    "val_data = tf.keras.preprocessing.image.ImageDataGenerator(rescale=1./255).flow_from_directory(\n",
    "    val_dir,\n",
    "    target_size=(224, 224),\n",
    "    batch_size=32,\n",
    "    class_mode='binary')\n",
    "\n"
   ]
  },
  {
   "cell_type": "code",
   "execution_count": 10,
   "id": "335a3201-75b9-47ef-af8c-a5a94f4254d9",
   "metadata": {},
   "outputs": [
    {
     "name": "stderr",
     "output_type": "stream",
     "text": [
      "2023-04-28 05:51:03.964198: I tensorflow/core/platform/cpu_feature_guard.cc:193] This TensorFlow binary is optimized with oneAPI Deep Neural Network Library (oneDNN) to use the following CPU instructions in performance-critical operations:  AVX2 AVX512F FMA\n",
      "To enable them in other operations, rebuild TensorFlow with the appropriate compiler flags.\n",
      "2023-04-28 05:51:04.141525: I tensorflow/core/common_runtime/process_util.cc:146] Creating new thread pool with default inter op setting: \n"
     ]
    }
   ],
   "source": [
    "\n",
    "# Define the CNN model\n",
    "model = tf.keras.models.Sequential([\n",
    "    tf.keras.layers.Conv2D(16, (3,3), activation='relu', input_shape=(224, 224, 3)),\n",
    "    tf.keras.layers.MaxPooling2D(2, 2),\n",
    "    tf.keras.layers.Conv2D(32, (3,3), activation='relu'),\n",
    "    tf.keras.layers.MaxPooling2D(2,2),\n",
    "    tf.keras.layers.Conv2D(64, (3,3), activation='relu'),\n",
    "    tf.keras.layers.MaxPooling2D(2,2),\n",
    "    tf.keras.layers.Flatten(),\n",
    "    tf.keras.layers.Dense(512, activation='relu'),\n",
    "    tf.keras.layers.Dense(1, activation='sigmoid')\n",
    "])"
   ]
  },
  {
   "cell_type": "code",
   "execution_count": 11,
   "id": "995d5dbf-8ae6-4c53-b3eb-331add4a3bf2",
   "metadata": {},
   "outputs": [],
   "source": [
    "\n",
    "model.compile(optimizer='adam', loss='binary_crossentropy', metrics=['accuracy'])\n",
    "\n"
   ]
  },
  {
   "cell_type": "code",
   "execution_count": 13,
   "id": "5c770200-0f0d-4fb6-aa0d-7966a8f83112",
   "metadata": {},
   "outputs": [
    {
     "name": "stdout",
     "output_type": "stream",
     "text": [
      "Epoch 1/2:\n",
      "163/163 [==============================] - 99s 610ms/step - loss: 0.0696 - accuracy: 0.9743 - val_loss: 0.4672 - val_accuracy: 0.7500\n",
      "Time taken for epoch 1 : 99.59 seconds\n",
      "Epoch 2/2:\n",
      "163/163 [==============================] - 98s 605ms/step - loss: 0.0580 - accuracy: 0.9770 - val_loss: 0.3831 - val_accuracy: 0.8750\n",
      "Time taken for epoch 2 : 98.80 seconds\n"
     ]
    }
   ],
   "source": [
    "import time\n",
    "start_time = time.time()\n",
    "num_epochs = 2\n",
    "for epoch in range(num_epochs):\n",
    "    print(\"Epoch {}/{}:\".format(epoch+1, num_epochs))\n",
    "    model.fit(train_data, validation_data=val_data, epochs=1)\n",
    "    print(\"Time taken for epoch {} : {:.2f} seconds\".format(epoch+1, time.time()-start_time))\n",
    "    start_time = time.time()\n"
   ]
  }
 ],
 "metadata": {
  "kernelspec": {
   "display_name": "oneAPI 2022.3.1",
   "language": "python",
   "name": "2022.3.1"
  },
  "language_info": {
   "codemirror_mode": {
    "name": "ipython",
    "version": 3
   },
   "file_extension": ".py",
   "mimetype": "text/x-python",
   "name": "python",
   "nbconvert_exporter": "python",
   "pygments_lexer": "ipython3",
   "version": "3.9.13"
  }
 },
 "nbformat": 4,
 "nbformat_minor": 5
}
